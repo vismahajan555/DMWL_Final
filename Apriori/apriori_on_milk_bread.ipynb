{
 "cells": [
  {
   "cell_type": "code",
   "execution_count": 1,
   "metadata": {},
   "outputs": [
    {
     "name": "stdout",
     "output_type": "stream",
     "text": [
      "Requirement already satisfied: apyori in c:\\python39\\lib\\site-packages (1.1.2)Note: you may need to restart the kernel to use updated packages.\n",
      "\n"
     ]
    }
   ],
   "source": [
    "pip install apyori \n"
   ]
  },
  {
   "cell_type": "code",
   "execution_count": 2,
   "metadata": {},
   "outputs": [],
   "source": [
    "import pandas as pd\n",
    "from apyori import apriori"
   ]
  },
  {
   "cell_type": "code",
   "execution_count": 4,
   "metadata": {},
   "outputs": [
    {
     "data": {
      "text/plain": [
       "['\"MILK,BREAD,BISCUIT\"',\n",
       " '\"BREAD,MILK,BISCUIT,CORNFLAKES\"',\n",
       " '\"BREAD,TEA,BOURNVITA\"',\n",
       " '\"JAM,MAGGI,BREAD,MILK\"',\n",
       " '\"MAGGI,TEA,BISCUIT\"',\n",
       " '\"BREAD,TEA,BOURNVITA\"',\n",
       " '\"MAGGI,TEA,CORNFLAKES\"',\n",
       " '\"MAGGI,BREAD,TEA,BISCUIT\"',\n",
       " '\"JAM,MAGGI,BREAD,TEA\"',\n",
       " '\"BREAD,MILK\"',\n",
       " '\"COFFEE,COCK,BISCUIT,CORNFLAKES\"',\n",
       " '\"COFFEE,COCK,BISCUIT,CORNFLAKES\"',\n",
       " '\"COFFEE,SUGER,BOURNVITA\"',\n",
       " '\"BREAD,COFFEE,COCK\"',\n",
       " '\"BREAD,SUGER,BISCUIT\"',\n",
       " '\"COFFEE,SUGER,CORNFLAKES\"',\n",
       " '\"BREAD,SUGER,BOURNVITA\"',\n",
       " '\"BREAD,COFFEE,SUGER\"',\n",
       " '\"BREAD,COFFEE,SUGER\"',\n",
       " '\"TEA,MILK,COFFEE,CORNFLAKES\"',\n",
       " '']"
      ]
     },
     "execution_count": 4,
     "metadata": {},
     "output_type": "execute_result"
    }
   ],
   "source": [
    "with open('prac_2.csv') as f:\n",
    "    # print(f.read())\n",
    "    data = f.read()\n",
    "    data = data.split(\"\\n\")\n",
    "data\n",
    "\n"
   ]
  },
  {
   "cell_type": "code",
   "execution_count": 10,
   "metadata": {},
   "outputs": [
    {
     "data": {
      "text/plain": [
       "[['\"MILK', 'BREAD', 'BISCUIT\"'],\n",
       " ['\"BREAD', 'MILK', 'BISCUIT', 'CORNFLAKES\"'],\n",
       " ['\"BREAD', 'TEA', 'BOURNVITA\"'],\n",
       " ['\"JAM', 'MAGGI', 'BREAD', 'MILK\"'],\n",
       " ['\"MAGGI', 'TEA', 'BISCUIT\"'],\n",
       " ['\"BREAD', 'TEA', 'BOURNVITA\"'],\n",
       " ['\"MAGGI', 'TEA', 'CORNFLAKES\"'],\n",
       " ['\"MAGGI', 'BREAD', 'TEA', 'BISCUIT\"'],\n",
       " ['\"JAM', 'MAGGI', 'BREAD', 'TEA\"'],\n",
       " ['\"BREAD', 'MILK\"'],\n",
       " ['\"COFFEE', 'COCK', 'BISCUIT', 'CORNFLAKES\"'],\n",
       " ['\"COFFEE', 'COCK', 'BISCUIT', 'CORNFLAKES\"'],\n",
       " ['\"COFFEE', 'SUGER', 'BOURNVITA\"'],\n",
       " ['\"BREAD', 'COFFEE', 'COCK\"'],\n",
       " ['\"BREAD', 'SUGER', 'BISCUIT\"'],\n",
       " ['\"COFFEE', 'SUGER', 'CORNFLAKES\"'],\n",
       " ['\"BREAD', 'SUGER', 'BOURNVITA\"'],\n",
       " ['\"BREAD', 'COFFEE', 'SUGER\"'],\n",
       " ['\"BREAD', 'COFFEE', 'SUGER\"'],\n",
       " ['\"TEA', 'MILK', 'COFFEE', 'CORNFLAKES\"'],\n",
       " ['']]"
      ]
     },
     "execution_count": 10,
     "metadata": {},
     "output_type": "execute_result"
    }
   ],
   "source": [
    "newData =[]\n",
    "for line in data:\n",
    "    newData.append(line.split(\",\"))\n",
    "\n",
    "newData"
   ]
  },
  {
   "cell_type": "code",
   "execution_count": 11,
   "metadata": {},
   "outputs": [
    {
     "data": {
      "text/plain": [
       "'M'"
      ]
     },
     "execution_count": 11,
     "metadata": {},
     "output_type": "execute_result"
    }
   ],
   "source": [
    "newData[0][0][1]"
   ]
  },
  {
   "cell_type": "code",
   "execution_count": 12,
   "metadata": {},
   "outputs": [
    {
     "name": "stdout",
     "output_type": "stream",
     "text": [
      "[['MILK', 'BREAD', 'BISCUIT'], ['BREAD', 'MILK', 'BISCUIT', 'CORNFLAKES'], ['BREAD', 'TEA', 'BOURNVITA'], ['JAM', 'MAGGI', 'BREAD', 'MILK'], ['MAGGI', 'TEA', 'BISCUIT'], ['BREAD', 'TEA', 'BOURNVITA'], ['MAGGI', 'TEA', 'CORNFLAKES'], ['MAGGI', 'BREAD', 'TEA', 'BISCUIT'], ['JAM', 'MAGGI', 'BREAD', 'TEA'], ['BREAD', 'MILK'], ['COFFEE', 'COCK', 'BISCUIT', 'CORNFLAKES'], ['COFFEE', 'COCK', 'BISCUIT', 'CORNFLAKES'], ['COFFEE', 'SUGER', 'BOURNVITA'], ['BREAD', 'COFFEE', 'COCK'], ['BREAD', 'SUGER', 'BISCUIT'], ['COFFEE', 'SUGER', 'CORNFLAKES'], ['BREAD', 'SUGER', 'BOURNVITA'], ['BREAD', 'COFFEE', 'SUGER'], ['BREAD', 'COFFEE', 'SUGER'], ['TEA', 'MILK', 'COFFEE', 'CORNFLAKES'], ['']]\n"
     ]
    }
   ],
   "source": [
    "for i in range(len(newData)):\n",
    "    for j in range(len(newData[i])):\n",
    "        newData[i][j] = newData[i][j].replace('\"', '')\n",
    "\n",
    "print(newData)"
   ]
  },
  {
   "cell_type": "code",
   "execution_count": 14,
   "metadata": {},
   "outputs": [
    {
     "name": "stdout",
     "output_type": "stream",
     "text": [
      "Rule: MAGGI -> JAM\n",
      "Support: 0.09523809523809523\n",
      "Confidence: 1.0\n",
      "Lift: 4.2\n",
      "================================\n",
      "Rule: CORNFLAKES -> BISCUIT\n",
      "Support: 0.047619047619047616\n",
      "Confidence: 1.0\n",
      "Lift: 3.0\n",
      "================================\n",
      "Rule: COFFEE -> BISCUIT\n",
      "Support: 0.09523809523809523\n",
      "Confidence: 0.6666666666666666\n",
      "Lift: 7.0\n",
      "================================\n",
      "Rule: BISCUIT -> COCK\n",
      "Support: 0.09523809523809523\n",
      "Confidence: 0.2857142857142857\n",
      "Lift: 3.0\n",
      "================================\n",
      "Rule: COFFEE -> BISCUIT\n",
      "Support: 0.09523809523809523\n",
      "Confidence: 0.3333333333333333\n",
      "Lift: 3.5\n",
      "================================\n",
      "Rule: MAGGI -> BISCUIT\n",
      "Support: 0.09523809523809523\n",
      "Confidence: 0.4\n",
      "Lift: 4.2\n",
      "================================\n",
      "Rule: COFFEE -> BOURNVITA\n",
      "Support: 0.047619047619047616\n",
      "Confidence: 1.0\n",
      "Lift: 3.5\n",
      "================================\n",
      "Rule: CORNFLAKES -> BREAD\n",
      "Support: 0.047619047619047616\n",
      "Confidence: 0.2\n",
      "Lift: 4.2\n",
      "================================\n",
      "Rule: MAGGI -> JAM\n",
      "Support: 0.09523809523809523\n",
      "Confidence: 1.0\n",
      "Lift: 7.0\n",
      "================================\n",
      "Rule: COFFEE -> COCK\n",
      "Support: 0.09523809523809523\n",
      "Confidence: 0.6666666666666666\n",
      "Lift: 3.5\n",
      "================================\n",
      "Rule: COFFEE -> CORNFLAKES\n",
      "Support: 0.047619047619047616\n",
      "Confidence: 1.0\n",
      "Lift: 3.5\n",
      "================================\n",
      "Rule: COFFEE -> TEA\n",
      "Support: 0.047619047619047616\n",
      "Confidence: 1.0\n",
      "Lift: 3.5\n",
      "================================\n",
      "Rule: COFFEE -> TEA\n",
      "Support: 0.047619047619047616\n",
      "Confidence: 0.2\n",
      "Lift: 4.2\n",
      "================================\n",
      "Rule: MAGGI -> TEA\n",
      "Support: 0.047619047619047616\n",
      "Confidence: 1.0\n",
      "Lift: 3.0\n",
      "================================\n",
      "Rule: TEA -> CORNFLAKES\n",
      "Support: 0.047619047619047616\n",
      "Confidence: 1.0\n",
      "Lift: 3.5\n",
      "================================\n",
      "Rule: MAGGI -> JAM\n",
      "Support: 0.047619047619047616\n",
      "Confidence: 0.5\n",
      "Lift: 10.5\n",
      "================================\n",
      "Rule: MAGGI -> JAM\n",
      "Support: 0.047619047619047616\n",
      "Confidence: 0.2\n",
      "Lift: 4.2\n",
      "================================\n",
      "Rule: CORNFLAKES -> BISCUIT\n",
      "Support: 0.047619047619047616\n",
      "Confidence: 0.2\n",
      "Lift: 4.2\n",
      "================================\n",
      "Rule: MAGGI -> BISCUIT\n",
      "Support: 0.047619047619047616\n",
      "Confidence: 0.2\n",
      "Lift: 4.2\n",
      "================================\n",
      "Rule: COFFEE -> BISCUIT\n",
      "Support: 0.09523809523809523\n",
      "Confidence: 0.2857142857142857\n",
      "Lift: 3.0\n",
      "================================\n",
      "Rule: MAGGI -> JAM\n",
      "Support: 0.047619047619047616\n",
      "Confidence: 0.5\n",
      "Lift: 10.5\n",
      "================================\n",
      "Rule: MAGGI -> JAM\n",
      "Support: 0.047619047619047616\n",
      "Confidence: 0.5\n",
      "Lift: 5.25\n",
      "================================\n",
      "Rule: COFFEE -> TEA\n",
      "Support: 0.047619047619047616\n",
      "Confidence: 0.2\n",
      "Lift: 4.2\n",
      "================================\n"
     ]
    }
   ],
   "source": [
    "association_rules = apriori(newData,min_support=0.0045,min_confidence=0.2,min_lift=3,min_length=2)\n",
    "AR = list(association_rules)\n",
    "\n",
    "b =AR[0][0]\n",
    "# for i in b:\n",
    "    # print(i)\n",
    "print(AR[0])\n",
    "for item in AR:\n",
    "    pair = item[0]\n",
    "    # for i in pair:\n",
    "        #  print(\"Rule: \" + items[0] + \" -> \" + items[1])\n",
    "    items = [x for x in pair]\n",
    "    print(\"Rule: \" + items[0] + \" -> \" + items[1])\n",
    "    print(\"Support: \" + str(item[1]))\n",
    "    print(\"Confidence: \" + str(item[2][0][2]))\n",
    "    print(\"Lift: \"+ str(item[2][0][3]))\n",
    "    print(\"================================\")\n"
   ]
  }
 ],
 "metadata": {
  "kernelspec": {
   "display_name": "Python 3",
   "language": "python",
   "name": "python3"
  },
  "language_info": {
   "codemirror_mode": {
    "name": "ipython",
    "version": 3
   },
   "file_extension": ".py",
   "mimetype": "text/x-python",
   "name": "python",
   "nbconvert_exporter": "python",
   "pygments_lexer": "ipython3",
   "version": "3.9.1"
  },
  "orig_nbformat": 4,
  "vscode": {
   "interpreter": {
    "hash": "996f2b6e98019c29df53ccff772a8e3fe7cdecb0ba4b3f6ddb9be804d297dd3d"
   }
  }
 },
 "nbformat": 4,
 "nbformat_minor": 2
}
